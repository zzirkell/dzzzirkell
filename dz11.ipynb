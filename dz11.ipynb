{
 "cells": [
  {
   "cell_type": "code",
   "execution_count": 1,
   "id": "cf638cc2",
   "metadata": {},
   "outputs": [
    {
     "name": "stdout",
     "output_type": "stream",
     "text": [
      "Введите длину 1-ой стороны\n",
      "3\n",
      "Введите длину 2-ой стороны\n",
      "4\n",
      "Введите длину 3-ей стороны\n",
      "5\n",
      "Ваш треугольник не имеет равных сторон и прямоугольный\n"
     ]
    }
   ],
   "source": [
    "print(\"Введите длину 1-ой стороны\")\n",
    "a=int(input())\n",
    "print(\"Введите длину 2-ой стороны\")\n",
    "b=int(input())\n",
    "print(\"Введите длину 3-ей стороны\")\n",
    "c=int(input())\n",
    "if a<=0 or b<=0 or c<=0:\n",
    "    print(\"Длины сторон треугольников могут быть только положительными. Пожалуйста, введите новые числа.\")\n",
    "else:   \n",
    "    maxim=max(a,b,c)\n",
    "    minim=min(a,b,c)\n",
    "    focus=0\n",
    "    sred=[a,b,c]\n",
    "    i=0\n",
    "    for k in range(3):\n",
    "        if sred[i+1]>=sred[i]>=sred[i+2] or sred[i+2]>=sred[i]>=sred[i+2]:\n",
    "            focus=sred[i]\n",
    "            break\n",
    "        else:\n",
    "            sred[i]=sred[i+1]\n",
    "            sred[i+1]=sred[i+2]\n",
    "            sred[i+2]=sred[i]\n",
    "\n",
    "    \n",
    "\n",
    "    if a+b>c and a+c>b and b+c>a:\n",
    "        if a==b!=с or a!=b==c or a==c!=b:\n",
    "            print('Ваш треугольник равнобедренный и', end='')\n",
    "        elif a==b==c:\n",
    "            print('Ваш треугольник равноcторонний и', end='')\n",
    "        elif a!=b!=c:\n",
    "            print('Ваш треугольник не имеет равных сторон и', end='')\n",
    "        if maxim**2>focus**2+minim**2:\n",
    "            print(' тупоугольный')\n",
    "        elif maxim**2==focus**2+minim**2:\n",
    "            print(' прямоугольный')\n",
    "        elif maxim**2<focus**2+minim**2:\n",
    "            print(' остроугольный')\n",
    "    \n",
    "              \n",
    "    else:\n",
    "        print(\"Треугольника с такими сторонами не существует\")"
   ]
  }
 ],
 "metadata": {
  "kernelspec": {
   "display_name": "Python 3 (ipykernel)",
   "language": "python",
   "name": "python3"
  },
  "language_info": {
   "codemirror_mode": {
    "name": "ipython",
    "version": 3
   },
   "file_extension": ".py",
   "mimetype": "text/x-python",
   "name": "python",
   "nbconvert_exporter": "python",
   "pygments_lexer": "ipython3",
   "version": "3.9.7"
  }
 },
 "nbformat": 4,
 "nbformat_minor": 5
}
